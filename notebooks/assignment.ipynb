{
 "cells": [
  {
   "cell_type": "markdown",
   "id": "f4e35eb6",
   "metadata": {},
   "source": [
    "### Question 1\n",
    "\n",
    "Question: Calculate the correlation between 'MSFT' and 'IBM' returns from a DataFrame of stock returns."
   ]
  },
  {
   "cell_type": "code",
   "execution_count": 3,
   "id": "1b29b313",
   "metadata": {},
   "outputs": [
    {
     "data": {
      "text/html": [
       "<div>\n",
       "<style scoped>\n",
       "    .dataframe tbody tr th:only-of-type {\n",
       "        vertical-align: middle;\n",
       "    }\n",
       "\n",
       "    .dataframe tbody tr th {\n",
       "        vertical-align: top;\n",
       "    }\n",
       "\n",
       "    .dataframe thead th {\n",
       "        text-align: right;\n",
       "    }\n",
       "</style>\n",
       "<table border=\"1\" class=\"dataframe\">\n",
       "  <thead>\n",
       "    <tr style=\"text-align: right;\">\n",
       "      <th></th>\n",
       "      <th>MSFT</th>\n",
       "      <th>IBM</th>\n",
       "    </tr>\n",
       "  </thead>\n",
       "  <tbody>\n",
       "    <tr>\n",
       "      <th>0</th>\n",
       "      <td>0.05</td>\n",
       "      <td>0.04</td>\n",
       "    </tr>\n",
       "    <tr>\n",
       "      <th>1</th>\n",
       "      <td>0.07</td>\n",
       "      <td>0.02</td>\n",
       "    </tr>\n",
       "    <tr>\n",
       "      <th>2</th>\n",
       "      <td>-0.01</td>\n",
       "      <td>0.03</td>\n",
       "    </tr>\n",
       "  </tbody>\n",
       "</table>\n",
       "</div>"
      ],
      "text/plain": [
       "   MSFT   IBM\n",
       "0  0.05  0.04\n",
       "1  0.07  0.02\n",
       "2 -0.01  0.03"
      ]
     },
     "execution_count": 3,
     "metadata": {},
     "output_type": "execute_result"
    }
   ],
   "source": [
    "import pandas as pd\n",
    "\n",
    "# Assuming 'returns' is a DataFrame containing stock returns\n",
    "returns = pd.DataFrame({\n",
    "    'MSFT': [0.05, 0.07, -0.01],\n",
    "    'IBM': [0.04, 0.02, 0.03]\n",
    "})\n",
    "\n",
    "returns\n"
   ]
  },
  {
   "cell_type": "code",
   "execution_count": 4,
   "id": "3c3d0da6",
   "metadata": {},
   "outputs": [
    {
     "name": "stdout",
     "output_type": "stream",
     "text": [
      "Correlation between MSFT and IBM returns: -0.24\n"
     ]
    }
   ],
   "source": [
    "# Calculate the correlation between 'MSFT' and 'IBM' returns from a DataFrame of stock returns.\n",
    "correlation = returns['MSFT'].corr(returns['IBM'])\n",
    "# Print the correlation result\n",
    "print(f\"Correlation between MSFT and IBM returns: {correlation:.2f}\")"
   ]
  },
  {
   "cell_type": "markdown",
   "id": "501fba57",
   "metadata": {},
   "source": [
    "### Question 2\n",
    "\n",
    "Question: Convert the columns `B` and `C` from wide to long format."
   ]
  },
  {
   "cell_type": "code",
   "execution_count": 6,
   "id": "1c27cd8f",
   "metadata": {},
   "outputs": [
    {
     "data": {
      "text/html": [
       "<div>\n",
       "<style scoped>\n",
       "    .dataframe tbody tr th:only-of-type {\n",
       "        vertical-align: middle;\n",
       "    }\n",
       "\n",
       "    .dataframe tbody tr th {\n",
       "        vertical-align: top;\n",
       "    }\n",
       "\n",
       "    .dataframe thead th {\n",
       "        text-align: right;\n",
       "    }\n",
       "</style>\n",
       "<table border=\"1\" class=\"dataframe\">\n",
       "  <thead>\n",
       "    <tr style=\"text-align: right;\">\n",
       "      <th></th>\n",
       "      <th>A</th>\n",
       "      <th>B</th>\n",
       "      <th>C</th>\n",
       "    </tr>\n",
       "  </thead>\n",
       "  <tbody>\n",
       "    <tr>\n",
       "      <th>0</th>\n",
       "      <td>a</td>\n",
       "      <td>1</td>\n",
       "      <td>2</td>\n",
       "    </tr>\n",
       "    <tr>\n",
       "      <th>1</th>\n",
       "      <td>b</td>\n",
       "      <td>3</td>\n",
       "      <td>4</td>\n",
       "    </tr>\n",
       "    <tr>\n",
       "      <th>2</th>\n",
       "      <td>c</td>\n",
       "      <td>5</td>\n",
       "      <td>6</td>\n",
       "    </tr>\n",
       "  </tbody>\n",
       "</table>\n",
       "</div>"
      ],
      "text/plain": [
       "   A  B  C\n",
       "0  a  1  2\n",
       "1  b  3  4\n",
       "2  c  5  6"
      ]
     },
     "execution_count": 6,
     "metadata": {},
     "output_type": "execute_result"
    }
   ],
   "source": [
    "df = pd.DataFrame({\n",
    "'A': {0: 'a', 1: 'b', 2: 'c'},\n",
    "'B': {0: 1, 1: 3, 2: 5},\n",
    "'C': {0: 2, 1: 4, 2: 6}\n",
    "})\n",
    "df"
   ]
  },
  {
   "cell_type": "code",
   "execution_count": 7,
   "id": "8ba98354",
   "metadata": {},
   "outputs": [
    {
     "data": {
      "text/html": [
       "<div>\n",
       "<style scoped>\n",
       "    .dataframe tbody tr th:only-of-type {\n",
       "        vertical-align: middle;\n",
       "    }\n",
       "\n",
       "    .dataframe tbody tr th {\n",
       "        vertical-align: top;\n",
       "    }\n",
       "\n",
       "    .dataframe thead th {\n",
       "        text-align: right;\n",
       "    }\n",
       "</style>\n",
       "<table border=\"1\" class=\"dataframe\">\n",
       "  <thead>\n",
       "    <tr style=\"text-align: right;\">\n",
       "      <th></th>\n",
       "      <th>A</th>\n",
       "      <th>variable</th>\n",
       "      <th>value</th>\n",
       "    </tr>\n",
       "  </thead>\n",
       "  <tbody>\n",
       "    <tr>\n",
       "      <th>0</th>\n",
       "      <td>a</td>\n",
       "      <td>B</td>\n",
       "      <td>1</td>\n",
       "    </tr>\n",
       "    <tr>\n",
       "      <th>1</th>\n",
       "      <td>b</td>\n",
       "      <td>B</td>\n",
       "      <td>3</td>\n",
       "    </tr>\n",
       "    <tr>\n",
       "      <th>2</th>\n",
       "      <td>c</td>\n",
       "      <td>B</td>\n",
       "      <td>5</td>\n",
       "    </tr>\n",
       "    <tr>\n",
       "      <th>3</th>\n",
       "      <td>a</td>\n",
       "      <td>C</td>\n",
       "      <td>2</td>\n",
       "    </tr>\n",
       "    <tr>\n",
       "      <th>4</th>\n",
       "      <td>b</td>\n",
       "      <td>C</td>\n",
       "      <td>4</td>\n",
       "    </tr>\n",
       "    <tr>\n",
       "      <th>5</th>\n",
       "      <td>c</td>\n",
       "      <td>C</td>\n",
       "      <td>6</td>\n",
       "    </tr>\n",
       "  </tbody>\n",
       "</table>\n",
       "</div>"
      ],
      "text/plain": [
       "   A variable  value\n",
       "0  a        B      1\n",
       "1  b        B      3\n",
       "2  c        B      5\n",
       "3  a        C      2\n",
       "4  b        C      4\n",
       "5  c        C      6"
      ]
     },
     "execution_count": 7,
     "metadata": {},
     "output_type": "execute_result"
    }
   ],
   "source": [
    "# Convert the columns `B` and `C` from wide to long format.\n",
    "df_long = df.melt(id_vars=['A'], value_vars=['B', 'C'], var_name='variable', value_name='value')\n",
    "df_long"
   ]
  },
  {
   "cell_type": "markdown",
   "id": "80bb21fb",
   "metadata": {},
   "source": [
    "### Question 3\n",
    "\n",
    "Question: Slice the Series to return data from 5th to 15th January."
   ]
  },
  {
   "cell_type": "code",
   "execution_count": 8,
   "id": "d261cb9e",
   "metadata": {},
   "outputs": [
    {
     "data": {
      "text/plain": [
       "2023-01-01    0.034902\n",
       "2023-01-02    0.537529\n",
       "2023-01-03    0.980295\n",
       "2023-01-04    0.068044\n",
       "2023-01-05    0.364132\n",
       "2023-01-06    0.431764\n",
       "2023-01-07    0.824356\n",
       "2023-01-08    0.454389\n",
       "2023-01-09    0.045333\n",
       "2023-01-10    0.384936\n",
       "2023-01-11    0.336951\n",
       "2023-01-12    0.064050\n",
       "2023-01-13    0.613540\n",
       "2023-01-14    0.403985\n",
       "2023-01-15    0.325712\n",
       "2023-01-16    0.403461\n",
       "2023-01-17    0.776310\n",
       "2023-01-18    0.422658\n",
       "2023-01-19    0.003070\n",
       "2023-01-20    0.793459\n",
       "2023-01-21    0.079490\n",
       "2023-01-22    0.388804\n",
       "2023-01-23    0.298662\n",
       "2023-01-24    0.334863\n",
       "2023-01-25    0.071026\n",
       "2023-01-26    0.527274\n",
       "2023-01-27    0.935695\n",
       "2023-01-28    0.970170\n",
       "2023-01-29    0.590114\n",
       "2023-01-30    0.004428\n",
       "2023-01-31    0.450209\n",
       "Freq: D, dtype: float64"
      ]
     },
     "execution_count": 8,
     "metadata": {},
     "output_type": "execute_result"
    }
   ],
   "source": [
    "import pandas as pd\n",
    "import numpy as np\n",
    "\n",
    "dates = pd.date_range(\"2023-01-01\", \"2023-01-31\")\n",
    "data = pd.Series(np.random.rand(len(dates)), index=dates)\n",
    "data"
   ]
  },
  {
   "cell_type": "code",
   "execution_count": 9,
   "id": "48238309",
   "metadata": {},
   "outputs": [
    {
     "data": {
      "text/plain": [
       "2023-01-05    0.364132\n",
       "2023-01-06    0.431764\n",
       "2023-01-07    0.824356\n",
       "2023-01-08    0.454389\n",
       "2023-01-09    0.045333\n",
       "2023-01-10    0.384936\n",
       "2023-01-11    0.336951\n",
       "2023-01-12    0.064050\n",
       "2023-01-13    0.613540\n",
       "2023-01-14    0.403985\n",
       "2023-01-15    0.325712\n",
       "Freq: D, dtype: float64"
      ]
     },
     "execution_count": 9,
     "metadata": {},
     "output_type": "execute_result"
    }
   ],
   "source": [
    "# Slice the Series to return data from 5th to 15th January.\n",
    "sliced_data = data['2023-01-05':'2023-01-15']\n",
    "sliced_data"
   ]
  }
 ],
 "metadata": {
  "kernelspec": {
   "display_name": "pds",
   "language": "python",
   "name": "python3"
  },
  "language_info": {
   "codemirror_mode": {
    "name": "ipython",
    "version": 3
   },
   "file_extension": ".py",
   "mimetype": "text/x-python",
   "name": "python",
   "nbconvert_exporter": "python",
   "pygments_lexer": "ipython3",
   "version": "3.10.18"
  }
 },
 "nbformat": 4,
 "nbformat_minor": 5
}
